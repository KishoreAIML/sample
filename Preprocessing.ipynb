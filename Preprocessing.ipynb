{
 "cells": [
  {
   "cell_type": "code",
   "execution_count": 205,
   "id": "e0c071ac-0da0-4231-a3ec-df8e059354f5",
   "metadata": {},
   "outputs": [],
   "source": [
    "#importing essential libraries\n",
    "import pandas as pd # for data manipulation\n",
    "import warnings #for ignore some warnings throughout the program\n",
    "from sklearn.impute import SimpleImputer #for filling null values with wanted strategy\n",
    "from sklearn.preprocessing import OneHotEncoder #for encoding nominal data\n",
    "from sklearn.preprocessing import OrdinalEncoder #for encoding ordinal data\n",
    "import matplotlib.pyplot as plt #for visuvalization\n",
    "from sklearn.model_selection import train_test_split #for slpiting the data into train and test datasets\n",
    "from sklearn.preprocessing import MinMaxScaler #for scaling\n",
    "from sklearn.ensemble import RandomForestClassifier #for finding important predictors\n",
    "import seaborn as sns #for more accurate visivalization"
   ]
  },
  {
   "cell_type": "code",
   "execution_count": 24,
   "id": "87192c04-9d14-460f-9b5e-991337ab723f",
   "metadata": {},
   "outputs": [
    {
     "data": {
      "text/html": [
       "<div>\n",
       "<style scoped>\n",
       "    .dataframe tbody tr th:only-of-type {\n",
       "        vertical-align: middle;\n",
       "    }\n",
       "\n",
       "    .dataframe tbody tr th {\n",
       "        vertical-align: top;\n",
       "    }\n",
       "\n",
       "    .dataframe thead th {\n",
       "        text-align: right;\n",
       "    }\n",
       "</style>\n",
       "<table border=\"1\" class=\"dataframe\">\n",
       "  <thead>\n",
       "    <tr style=\"text-align: right;\">\n",
       "      <th></th>\n",
       "      <th>CreditScore</th>\n",
       "      <th>FirstPaymentDate</th>\n",
       "      <th>FirstTimeHomebuyer</th>\n",
       "      <th>MaturityDate</th>\n",
       "      <th>MSA</th>\n",
       "      <th>MIP</th>\n",
       "      <th>Units</th>\n",
       "      <th>Occupancy</th>\n",
       "      <th>OCLTV</th>\n",
       "      <th>DTI</th>\n",
       "      <th>...</th>\n",
       "      <th>PostalCode</th>\n",
       "      <th>LoanSeqNum</th>\n",
       "      <th>LoanPurpose</th>\n",
       "      <th>OrigLoanTerm</th>\n",
       "      <th>NumBorrowers</th>\n",
       "      <th>SellerName</th>\n",
       "      <th>ServicerName</th>\n",
       "      <th>EverDelinquent</th>\n",
       "      <th>MonthsDelinquent</th>\n",
       "      <th>MonthsInRepayment</th>\n",
       "    </tr>\n",
       "  </thead>\n",
       "  <tbody>\n",
       "    <tr>\n",
       "      <th>0</th>\n",
       "      <td>0</td>\n",
       "      <td>199902</td>\n",
       "      <td>N</td>\n",
       "      <td>202901</td>\n",
       "      <td>16974</td>\n",
       "      <td>25</td>\n",
       "      <td>1</td>\n",
       "      <td>O</td>\n",
       "      <td>89</td>\n",
       "      <td>27</td>\n",
       "      <td>...</td>\n",
       "      <td>60400</td>\n",
       "      <td>F199Q1268030</td>\n",
       "      <td>P</td>\n",
       "      <td>360</td>\n",
       "      <td>2</td>\n",
       "      <td>FL</td>\n",
       "      <td>WASHINGTONMUTUALBANK</td>\n",
       "      <td>0</td>\n",
       "      <td>0</td>\n",
       "      <td>52</td>\n",
       "    </tr>\n",
       "    <tr>\n",
       "      <th>1</th>\n",
       "      <td>0</td>\n",
       "      <td>199902</td>\n",
       "      <td>N</td>\n",
       "      <td>202901</td>\n",
       "      <td>19740</td>\n",
       "      <td>0</td>\n",
       "      <td>1</td>\n",
       "      <td>O</td>\n",
       "      <td>73</td>\n",
       "      <td>17</td>\n",
       "      <td>...</td>\n",
       "      <td>80200</td>\n",
       "      <td>F199Q1015092</td>\n",
       "      <td>N</td>\n",
       "      <td>360</td>\n",
       "      <td>1</td>\n",
       "      <td>FT</td>\n",
       "      <td>CHASEHOMEFINANCELLC</td>\n",
       "      <td>0</td>\n",
       "      <td>0</td>\n",
       "      <td>144</td>\n",
       "    </tr>\n",
       "    <tr>\n",
       "      <th>2</th>\n",
       "      <td>0</td>\n",
       "      <td>199902</td>\n",
       "      <td>N</td>\n",
       "      <td>202901</td>\n",
       "      <td>29940</td>\n",
       "      <td>0</td>\n",
       "      <td>1</td>\n",
       "      <td>O</td>\n",
       "      <td>75</td>\n",
       "      <td>16</td>\n",
       "      <td>...</td>\n",
       "      <td>66000</td>\n",
       "      <td>F199Q1266886</td>\n",
       "      <td>N</td>\n",
       "      <td>360</td>\n",
       "      <td>2</td>\n",
       "      <td>FL</td>\n",
       "      <td>WASHINGTONMUTUALBANK</td>\n",
       "      <td>0</td>\n",
       "      <td>0</td>\n",
       "      <td>67</td>\n",
       "    </tr>\n",
       "    <tr>\n",
       "      <th>3</th>\n",
       "      <td>0</td>\n",
       "      <td>199902</td>\n",
       "      <td>N</td>\n",
       "      <td>202901</td>\n",
       "      <td>31084</td>\n",
       "      <td>0</td>\n",
       "      <td>1</td>\n",
       "      <td>O</td>\n",
       "      <td>76</td>\n",
       "      <td>14</td>\n",
       "      <td>...</td>\n",
       "      <td>90700</td>\n",
       "      <td>F199Q1178167</td>\n",
       "      <td>N</td>\n",
       "      <td>360</td>\n",
       "      <td>2</td>\n",
       "      <td>GM</td>\n",
       "      <td>GMACMTGECORP</td>\n",
       "      <td>0</td>\n",
       "      <td>0</td>\n",
       "      <td>35</td>\n",
       "    </tr>\n",
       "    <tr>\n",
       "      <th>4</th>\n",
       "      <td>0</td>\n",
       "      <td>199902</td>\n",
       "      <td>N</td>\n",
       "      <td>202901</td>\n",
       "      <td>35644</td>\n",
       "      <td>0</td>\n",
       "      <td>1</td>\n",
       "      <td>O</td>\n",
       "      <td>78</td>\n",
       "      <td>18</td>\n",
       "      <td>...</td>\n",
       "      <td>7600</td>\n",
       "      <td>F199Q1178517</td>\n",
       "      <td>N</td>\n",
       "      <td>360</td>\n",
       "      <td>2</td>\n",
       "      <td>GM</td>\n",
       "      <td>GMACMTGECORP</td>\n",
       "      <td>0</td>\n",
       "      <td>0</td>\n",
       "      <td>54</td>\n",
       "    </tr>\n",
       "  </tbody>\n",
       "</table>\n",
       "<p>5 rows × 28 columns</p>\n",
       "</div>"
      ],
      "text/plain": [
       "   CreditScore  FirstPaymentDate FirstTimeHomebuyer  MaturityDate    MSA  MIP  \\\n",
       "0            0            199902                  N        202901  16974   25   \n",
       "1            0            199902                  N        202901  19740    0   \n",
       "2            0            199902                  N        202901  29940    0   \n",
       "3            0            199902                  N        202901  31084    0   \n",
       "4            0            199902                  N        202901  35644    0   \n",
       "\n",
       "   Units Occupancy  OCLTV  DTI  ...  PostalCode    LoanSeqNum  LoanPurpose  \\\n",
       "0      1         O     89   27  ...       60400  F199Q1268030            P   \n",
       "1      1         O     73   17  ...       80200  F199Q1015092            N   \n",
       "2      1         O     75   16  ...       66000  F199Q1266886            N   \n",
       "3      1         O     76   14  ...       90700  F199Q1178167            N   \n",
       "4      1         O     78   18  ...        7600  F199Q1178517            N   \n",
       "\n",
       "  OrigLoanTerm NumBorrowers SellerName          ServicerName EverDelinquent  \\\n",
       "0          360            2         FL  WASHINGTONMUTUALBANK              0   \n",
       "1          360            1         FT  CHASEHOMEFINANCELLC               0   \n",
       "2          360            2         FL  WASHINGTONMUTUALBANK              0   \n",
       "3          360            2         GM  GMACMTGECORP                      0   \n",
       "4          360            2         GM  GMACMTGECORP                      0   \n",
       "\n",
       "  MonthsDelinquent MonthsInRepayment  \n",
       "0                0                52  \n",
       "1                0               144  \n",
       "2                0                67  \n",
       "3                0                35  \n",
       "4                0                54  \n",
       "\n",
       "[5 rows x 28 columns]"
      ]
     },
     "execution_count": 24,
     "metadata": {},
     "output_type": "execute_result"
    }
   ],
   "source": [
    "#loading the data\n",
    "warnings.filterwarnings(\"ignore\")\n",
    "df = pd.read_csv(\"LoanExport.csv\")\n",
    "#look first 5 rows of df\n",
    "df.head()"
   ]
  },
  {
   "cell_type": "code",
   "execution_count": 25,
   "id": "19f2e052-2b36-44d0-8805-5d1c63c83cd0",
   "metadata": {},
   "outputs": [
    {
     "data": {
      "text/plain": [
       "(291451, 28)"
      ]
     },
     "execution_count": 25,
     "metadata": {},
     "output_type": "execute_result"
    }
   ],
   "source": [
    "#shape of the dataset\n",
    "df.shape"
   ]
  },
  {
   "cell_type": "markdown",
   "id": "adabc9ec-92fa-408c-abcf-98da5d5f8130",
   "metadata": {},
   "source": [
    "dataset consists 291451 rows and 28 columns"
   ]
  },
  {
   "cell_type": "code",
   "execution_count": 29,
   "id": "69825003-dbff-49f9-9563-ee3565be2e09",
   "metadata": {},
   "outputs": [
    {
     "data": {
      "text/plain": [
       "Index(['CreditScore', 'FirstPaymentDate', 'FirstTimeHomebuyer', 'MaturityDate',\n",
       "       'MSA', 'MIP', 'Units', 'Occupancy', 'OCLTV', 'DTI', 'OrigUPB', 'LTV',\n",
       "       'OrigInterestRate', 'Channel', 'PPM', 'ProductType', 'PropertyState',\n",
       "       'PropertyType', 'PostalCode', 'LoanSeqNum', 'LoanPurpose',\n",
       "       'OrigLoanTerm', 'NumBorrowers', 'SellerName', 'ServicerName',\n",
       "       'EverDelinquent', 'MonthsDelinquent', 'MonthsInRepayment'],\n",
       "      dtype='object')"
      ]
     },
     "execution_count": 29,
     "metadata": {},
     "output_type": "execute_result"
    }
   ],
   "source": [
    "#list of columns\n",
    "df.columns"
   ]
  },
  {
   "cell_type": "markdown",
   "id": "5a6e8888-79e3-43f8-af13-6591e7cfb4d8",
   "metadata": {},
   "source": [
    "# Data Preprocessing "
   ]
  },
  {
   "cell_type": "markdown",
   "id": "831dffd5-2bef-4d4b-a379-ac94f758e56a",
   "metadata": {},
   "source": [
    "### a)Handling missing values"
   ]
  },
  {
   "cell_type": "code",
   "execution_count": 33,
   "id": "e7eafd18-e831-4995-ba15-721c4891ca57",
   "metadata": {},
   "outputs": [
    {
     "name": "stdout",
     "output_type": "stream",
     "text": [
      "<class 'pandas.core.frame.DataFrame'>\n",
      "RangeIndex: 291451 entries, 0 to 291450\n",
      "Data columns (total 28 columns):\n",
      " #   Column              Non-Null Count   Dtype  \n",
      "---  ------              --------------   -----  \n",
      " 0   CreditScore         291451 non-null  int64  \n",
      " 1   FirstPaymentDate    291451 non-null  int64  \n",
      " 2   FirstTimeHomebuyer  291451 non-null  object \n",
      " 3   MaturityDate        291451 non-null  int64  \n",
      " 4   MSA                 291451 non-null  object \n",
      " 5   MIP                 291451 non-null  int64  \n",
      " 6   Units               291451 non-null  int64  \n",
      " 7   Occupancy           291451 non-null  object \n",
      " 8   OCLTV               291451 non-null  int64  \n",
      " 9   DTI                 291451 non-null  int64  \n",
      " 10  OrigUPB             291451 non-null  int64  \n",
      " 11  LTV                 291451 non-null  int64  \n",
      " 12  OrigInterestRate    291451 non-null  float64\n",
      " 13  Channel             291451 non-null  object \n",
      " 14  PPM                 291451 non-null  object \n",
      " 15  ProductType         291451 non-null  object \n",
      " 16  PropertyState       291451 non-null  object \n",
      " 17  PropertyType        291451 non-null  object \n",
      " 18  PostalCode          291451 non-null  object \n",
      " 19  LoanSeqNum          291451 non-null  object \n",
      " 20  LoanPurpose         291451 non-null  object \n",
      " 21  OrigLoanTerm        291451 non-null  int64  \n",
      " 22  NumBorrowers        291451 non-null  object \n",
      " 23  SellerName          266457 non-null  object \n",
      " 24  ServicerName        291451 non-null  object \n",
      " 25  EverDelinquent      291451 non-null  int64  \n",
      " 26  MonthsDelinquent    291451 non-null  int64  \n",
      " 27  MonthsInRepayment   291451 non-null  int64  \n",
      "dtypes: float64(1), int64(13), object(14)\n",
      "memory usage: 62.3+ MB\n"
     ]
    }
   ],
   "source": [
    "df.info()"
   ]
  },
  {
   "cell_type": "markdown",
   "id": "2229af51-fe3d-4714-8d27-c3b3c0c65b08",
   "metadata": {},
   "source": [
    "Here we see,SellerName having null values and is data type object"
   ]
  },
  {
   "cell_type": "code",
   "execution_count": 36,
   "id": "b950bd5c-0fd7-4a84-9e0b-ce03bbd79df4",
   "metadata": {},
   "outputs": [
    {
     "data": {
      "text/plain": [
       "CreditScore               0\n",
       "FirstPaymentDate          0\n",
       "FirstTimeHomebuyer        0\n",
       "MaturityDate              0\n",
       "MSA                       0\n",
       "MIP                       0\n",
       "Units                     0\n",
       "Occupancy                 0\n",
       "OCLTV                     0\n",
       "DTI                       0\n",
       "OrigUPB                   0\n",
       "LTV                       0\n",
       "OrigInterestRate          0\n",
       "Channel                   0\n",
       "PPM                       0\n",
       "ProductType               0\n",
       "PropertyState             0\n",
       "PropertyType              0\n",
       "PostalCode                0\n",
       "LoanSeqNum                0\n",
       "LoanPurpose               0\n",
       "OrigLoanTerm              0\n",
       "NumBorrowers              0\n",
       "SellerName            24994\n",
       "ServicerName              0\n",
       "EverDelinquent            0\n",
       "MonthsDelinquent          0\n",
       "MonthsInRepayment         0\n",
       "dtype: int64"
      ]
     },
     "execution_count": 36,
     "metadata": {},
     "output_type": "execute_result"
    }
   ],
   "source": [
    "df.isnull().sum()"
   ]
  },
  {
   "cell_type": "markdown",
   "id": "21aeaf1a-5aa4-4cbb-9f07-9b10e653f76c",
   "metadata": {},
   "source": [
    "SellerName has 24994 null values , now we fill them by imputation"
   ]
  },
  {
   "cell_type": "code",
   "execution_count": 45,
   "id": "017a73b2-e955-48b4-9812-bf13983dc308",
   "metadata": {},
   "outputs": [],
   "source": [
    "imputer = SimpleImputer(strategy = \"most_frequent\")\n",
    "df[\"SellerName\"] = imputer.fit_transform(df[[\"SellerName\"]]).ravel()"
   ]
  },
  {
   "cell_type": "code",
   "execution_count": 47,
   "id": "c5f5ba20-56ff-4684-af61-76bdedc5beeb",
   "metadata": {},
   "outputs": [
    {
     "name": "stdout",
     "output_type": "stream",
     "text": [
      "<class 'pandas.core.frame.DataFrame'>\n",
      "RangeIndex: 291451 entries, 0 to 291450\n",
      "Data columns (total 28 columns):\n",
      " #   Column              Non-Null Count   Dtype  \n",
      "---  ------              --------------   -----  \n",
      " 0   CreditScore         291451 non-null  int64  \n",
      " 1   FirstPaymentDate    291451 non-null  int64  \n",
      " 2   FirstTimeHomebuyer  291451 non-null  object \n",
      " 3   MaturityDate        291451 non-null  int64  \n",
      " 4   MSA                 291451 non-null  object \n",
      " 5   MIP                 291451 non-null  int64  \n",
      " 6   Units               291451 non-null  int64  \n",
      " 7   Occupancy           291451 non-null  object \n",
      " 8   OCLTV               291451 non-null  int64  \n",
      " 9   DTI                 291451 non-null  int64  \n",
      " 10  OrigUPB             291451 non-null  int64  \n",
      " 11  LTV                 291451 non-null  int64  \n",
      " 12  OrigInterestRate    291451 non-null  float64\n",
      " 13  Channel             291451 non-null  object \n",
      " 14  PPM                 291451 non-null  object \n",
      " 15  ProductType         291451 non-null  object \n",
      " 16  PropertyState       291451 non-null  object \n",
      " 17  PropertyType        291451 non-null  object \n",
      " 18  PostalCode          291451 non-null  object \n",
      " 19  LoanSeqNum          291451 non-null  object \n",
      " 20  LoanPurpose         291451 non-null  object \n",
      " 21  OrigLoanTerm        291451 non-null  int64  \n",
      " 22  NumBorrowers        291451 non-null  object \n",
      " 23  SellerName          291451 non-null  object \n",
      " 24  ServicerName        291451 non-null  object \n",
      " 25  EverDelinquent      291451 non-null  int64  \n",
      " 26  MonthsDelinquent    291451 non-null  int64  \n",
      " 27  MonthsInRepayment   291451 non-null  int64  \n",
      "dtypes: float64(1), int64(13), object(14)\n",
      "memory usage: 62.3+ MB\n"
     ]
    }
   ],
   "source": [
    "df.info()"
   ]
  },
  {
   "cell_type": "markdown",
   "id": "83d66c97-32fb-48d3-9f91-b3586d581a32",
   "metadata": {},
   "source": [
    "Now all columns without null values"
   ]
  },
  {
   "cell_type": "code",
   "execution_count": 50,
   "id": "df2c195b-6baf-4936-bc8e-7e1c5fc644ee",
   "metadata": {},
   "outputs": [
    {
     "data": {
      "text/plain": [
       "CreditScore           0\n",
       "FirstPaymentDate      0\n",
       "FirstTimeHomebuyer    0\n",
       "MaturityDate          0\n",
       "MSA                   0\n",
       "MIP                   0\n",
       "Units                 0\n",
       "Occupancy             0\n",
       "OCLTV                 0\n",
       "DTI                   0\n",
       "OrigUPB               0\n",
       "LTV                   0\n",
       "OrigInterestRate      0\n",
       "Channel               0\n",
       "PPM                   0\n",
       "ProductType           0\n",
       "PropertyState         0\n",
       "PropertyType          0\n",
       "PostalCode            0\n",
       "LoanSeqNum            0\n",
       "LoanPurpose           0\n",
       "OrigLoanTerm          0\n",
       "NumBorrowers          0\n",
       "SellerName            0\n",
       "ServicerName          0\n",
       "EverDelinquent        0\n",
       "MonthsDelinquent      0\n",
       "MonthsInRepayment     0\n",
       "dtype: int64"
      ]
     },
     "execution_count": 50,
     "metadata": {},
     "output_type": "execute_result"
    }
   ],
   "source": [
    "df.isnull().sum()"
   ]
  },
  {
   "cell_type": "markdown",
   "id": "d2983288-7b15-4f46-bcf9-a49fb6d872e7",
   "metadata": {},
   "source": [
    "### b)Encoding"
   ]
  },
  {
   "cell_type": "markdown",
   "id": "cb12cc1b-7485-4547-b623-a0428b786dde",
   "metadata": {},
   "source": [
    "encoding is the process of convrting categorical data into numerical data using encoding techniques like OneHotEncoding for nominal data or Ordinal encoding for ordinal data"
   ]
  },
  {
   "cell_type": "code",
   "execution_count": 64,
   "id": "313d09a6-3459-4a6f-838e-70bf972c6370",
   "metadata": {},
   "outputs": [
    {
     "data": {
      "text/plain": [
       "array(['P', 'N', 'C'], dtype=object)"
      ]
     },
     "execution_count": 64,
     "metadata": {},
     "output_type": "execute_result"
    }
   ],
   "source": [
    "df[\"LoanPurpose\"].unique()"
   ]
  },
  {
   "cell_type": "code",
   "execution_count": 72,
   "id": "ba401e42-d1dd-407d-8ff2-1c827cc45609",
   "metadata": {},
   "outputs": [
    {
     "data": {
      "text/plain": [
       "array(['N', 'X', 'Y'], dtype=object)"
      ]
     },
     "execution_count": 72,
     "metadata": {},
     "output_type": "execute_result"
    }
   ],
   "source": [
    "df[\"PPM\"].unique()"
   ]
  },
  {
   "cell_type": "code",
   "execution_count": 99,
   "id": "e2c52015-e21e-45cc-ae38-7d6f5f8835be",
   "metadata": {},
   "outputs": [],
   "source": [
    "ordinal_encoder = OrdinalEncoder()\n",
    "df[\"LoanPurpose\"] = ordinal_encoder.fit_transform(df[[\"LoanPurpose\"]])\n",
    "df[\"PropertyType\"] = ordinal_encoder.fit_transform(df[[\"PropertyType\"]])\n",
    "df[\"PropertyState\"] = ordinal_encoder.fit_transform(df[[\"PropertyState\"]])\n",
    "df[\"PPM\"] = ordinal_encoder.fit_transform(df[[\"PPM\"]])\n",
    "df[\"Channel\"] = ordinal_encoder.fit_transform(df[[\"Channel\"]])\n",
    "df[\"FirstTimeHomebuyer\"] = ordinal_encoder.fit_transform(df[[\"FirstTimeHomebuyer\"]])\n",
    "df[\"ProductType\"] = ordinal_encoder.fit_transform(df[[\"ProductType\"]])\n",
    "df[\"Occupancy\"] = ordinal_encoder.fit_transform(df[[\"Occupancy\"]])"
   ]
  },
  {
   "cell_type": "code",
   "execution_count": 78,
   "id": "a43d6d55-599f-488f-a561-67f409a8c97d",
   "metadata": {},
   "outputs": [
    {
     "name": "stdout",
     "output_type": "stream",
     "text": [
      "<class 'pandas.core.frame.DataFrame'>\n",
      "RangeIndex: 291451 entries, 0 to 291450\n",
      "Data columns (total 28 columns):\n",
      " #   Column              Non-Null Count   Dtype  \n",
      "---  ------              --------------   -----  \n",
      " 0   CreditScore         291451 non-null  int64  \n",
      " 1   FirstPaymentDate    291451 non-null  int64  \n",
      " 2   FirstTimeHomebuyer  291451 non-null  float64\n",
      " 3   MaturityDate        291451 non-null  int64  \n",
      " 4   MSA                 291451 non-null  object \n",
      " 5   MIP                 291451 non-null  int64  \n",
      " 6   Units               291451 non-null  int64  \n",
      " 7   Occupancy           291451 non-null  object \n",
      " 8   OCLTV               291451 non-null  int64  \n",
      " 9   DTI                 291451 non-null  int64  \n",
      " 10  OrigUPB             291451 non-null  int64  \n",
      " 11  LTV                 291451 non-null  int64  \n",
      " 12  OrigInterestRate    291451 non-null  float64\n",
      " 13  Channel             291451 non-null  float64\n",
      " 14  PPM                 291451 non-null  float64\n",
      " 15  ProductType         291451 non-null  float64\n",
      " 16  PropertyState       291451 non-null  float64\n",
      " 17  PropertyType        291451 non-null  float64\n",
      " 18  PostalCode          291451 non-null  object \n",
      " 19  LoanSeqNum          291451 non-null  object \n",
      " 20  LoanPurpose         291451 non-null  float64\n",
      " 21  OrigLoanTerm        291451 non-null  int64  \n",
      " 22  NumBorrowers        291451 non-null  object \n",
      " 23  SellerName          291451 non-null  object \n",
      " 24  ServicerName        291451 non-null  object \n",
      " 25  EverDelinquent      291451 non-null  int64  \n",
      " 26  MonthsDelinquent    291451 non-null  int64  \n",
      " 27  MonthsInRepayment   291451 non-null  int64  \n",
      "dtypes: float64(8), int64(13), object(7)\n",
      "memory usage: 62.3+ MB\n"
     ]
    }
   ],
   "source": [
    "df.info()"
   ]
  },
  {
   "cell_type": "markdown",
   "id": "9d2203f8-8200-4c89-81ba-e00bf118c872",
   "metadata": {},
   "source": [
    "we observe NumBorrowers column numeric values but it showing dtype as boject.so we change dtype than encoding it."
   ]
  },
  {
   "cell_type": "code",
   "execution_count": 83,
   "id": "b62cfd47-17ff-45b2-872b-2c38c2cc06d8",
   "metadata": {},
   "outputs": [],
   "source": [
    "df[\"NumBorrowers\"] = ordinal_encoder.fit_transform(df[[\"NumBorrowers\"]].astype(str))"
   ]
  },
  {
   "cell_type": "markdown",
   "id": "cc0e79f8-aab8-4070-a348-a3551c2ff1a1",
   "metadata": {},
   "source": [
    "in LoanSeqNum has both numeric and characters.so do same as."
   ]
  },
  {
   "cell_type": "code",
   "execution_count": 93,
   "id": "1823f20d-d6bf-42ff-a555-f3e99f6df055",
   "metadata": {},
   "outputs": [],
   "source": [
    "df[\"LoanSeqNum\"] = ordinal_encoder.fit_transform(df[[\"LoanSeqNum\"]].astype(str))"
   ]
  },
  {
   "cell_type": "code",
   "execution_count": 107,
   "id": "dea9f0b7-82d0-47ff-be43-96a3353f1213",
   "metadata": {},
   "outputs": [],
   "source": [
    "# MSA column having integer values but data type as object,we simply chance the data type to numerical.\n",
    "df[\"MSA\"] = pd.to_numeric(df[\"MSA\"],errors =\"coerce\")"
   ]
  },
  {
   "cell_type": "markdown",
   "id": "13c9baaf-0115-4eed-9131-e09995e8b1c3",
   "metadata": {},
   "source": [
    "PostalCode , SellerName and ServicerName are may not be usefull for further analysis , so that we just drop those columns."
   ]
  },
  {
   "cell_type": "code",
   "execution_count": 112,
   "id": "f6ada60c-f3ad-4245-90d0-51b108ac9f5f",
   "metadata": {},
   "outputs": [],
   "source": [
    "new_df = df.drop(columns = [\"PostalCode\",\"SellerName\" , \"ServicerName\"])"
   ]
  },
  {
   "cell_type": "code",
   "execution_count": 115,
   "id": "7d97a01d-cc5a-4c87-89f1-425945f092d9",
   "metadata": {},
   "outputs": [
    {
     "name": "stdout",
     "output_type": "stream",
     "text": [
      "<class 'pandas.core.frame.DataFrame'>\n",
      "RangeIndex: 291451 entries, 0 to 291450\n",
      "Data columns (total 25 columns):\n",
      " #   Column              Non-Null Count   Dtype  \n",
      "---  ------              --------------   -----  \n",
      " 0   CreditScore         291451 non-null  int64  \n",
      " 1   FirstPaymentDate    291451 non-null  int64  \n",
      " 2   FirstTimeHomebuyer  291451 non-null  float64\n",
      " 3   MaturityDate        291451 non-null  int64  \n",
      " 4   MSA                 252351 non-null  float64\n",
      " 5   MIP                 291451 non-null  int64  \n",
      " 6   Units               291451 non-null  int64  \n",
      " 7   Occupancy           291451 non-null  float64\n",
      " 8   OCLTV               291451 non-null  int64  \n",
      " 9   DTI                 291451 non-null  int64  \n",
      " 10  OrigUPB             291451 non-null  int64  \n",
      " 11  LTV                 291451 non-null  int64  \n",
      " 12  OrigInterestRate    291451 non-null  float64\n",
      " 13  Channel             291451 non-null  float64\n",
      " 14  PPM                 291451 non-null  float64\n",
      " 15  ProductType         291451 non-null  float64\n",
      " 16  PropertyState       291451 non-null  float64\n",
      " 17  PropertyType        291451 non-null  float64\n",
      " 18  LoanSeqNum          291451 non-null  float64\n",
      " 19  LoanPurpose         291451 non-null  float64\n",
      " 20  OrigLoanTerm        291451 non-null  int64  \n",
      " 21  NumBorrowers        291451 non-null  float64\n",
      " 22  EverDelinquent      291451 non-null  int64  \n",
      " 23  MonthsDelinquent    291451 non-null  int64  \n",
      " 24  MonthsInRepayment   291451 non-null  int64  \n",
      "dtypes: float64(12), int64(13)\n",
      "memory usage: 55.6 MB\n"
     ]
    }
   ],
   "source": [
    "new_df.info()"
   ]
  },
  {
   "cell_type": "markdown",
   "id": "f404bd2b-77cc-4329-95b8-b0db057335d3",
   "metadata": {},
   "source": [
    "### c)Feature transformation"
   ]
  },
  {
   "cell_type": "markdown",
   "id": "104b5fa2-14b5-4a92-b638-bac27cd9bc61",
   "metadata": {},
   "source": [
    "in Feature transformations , we perform scaling.is used to set all column values are in the same scale , this improves model performence inorder to get accurate results."
   ]
  },
  {
   "cell_type": "code",
   "execution_count": 121,
   "id": "74155408-d67d-40d0-9630-4be555496518",
   "metadata": {},
   "outputs": [],
   "source": [
    "#new_df.to_csv(\"encoded.csv\")"
   ]
  },
  {
   "cell_type": "code",
   "execution_count": 149,
   "id": "b919c8ec-a8ce-4f2b-9144-5396abc06ea6",
   "metadata": {},
   "outputs": [],
   "source": [
    "imp = SimpleImputer(strategy = \"mean\")\n",
    "new_df[\"MSA\"] = imp.fit_transform(new_df[[\"MSA\"]])"
   ]
  },
  {
   "cell_type": "markdown",
   "id": "465cb6de-e880-4ded-a9df-34a4512443ed",
   "metadata": {},
   "source": [
    "For avaid the Data likage problem , by which model could not gedralize well.To avaid this we apply scaling on train data and transform test data only."
   ]
  },
  {
   "cell_type": "code",
   "execution_count": 151,
   "id": "57fe1775-f29b-4981-9644-732a985934b5",
   "metadata": {},
   "outputs": [],
   "source": [
    "features = new_df.drop(columns = [\"EverDelinquent\"])\n",
    "target = new_df[\"EverDelinquent\"]"
   ]
  },
  {
   "cell_type": "code",
   "execution_count": 153,
   "id": "d69f2774-d0a3-4d88-9259-840bd9e22585",
   "metadata": {},
   "outputs": [],
   "source": [
    "#split data into train and test datasets with 20% test\n",
    "feature_train , feature_test , target_train , target_test = train_test_split(features,target,test_size = 0.2 , random_state = 42)"
   ]
  },
  {
   "cell_type": "markdown",
   "id": "6b68c459-7d62-41af-a078-94cca71bbfc4",
   "metadata": {},
   "source": [
    "apply Normalization or MinMaxScaler on feature_train data(fit_transform) and feature_test(transform)"
   ]
  },
  {
   "cell_type": "code",
   "execution_count": 155,
   "id": "27e2ec32-5f26-464c-9ba5-908529407551",
   "metadata": {},
   "outputs": [],
   "source": [
    "min_max = MinMaxScaler()\n",
    "feature_train_scaled = min_max.fit_transform(feature_train)\n",
    "feature_test_scaled = min_max.transform(feature_test)"
   ]
  },
  {
   "cell_type": "markdown",
   "id": "1971a2fc-bb7d-4839-837b-15926c70b8fd",
   "metadata": {},
   "source": [
    "### Feature Importance"
   ]
  },
  {
   "cell_type": "markdown",
   "id": "ce0cb02b-8b27-4a9d-a80f-98813b91c2b4",
   "metadata": {},
   "source": [
    "find the best features , that are improve the model performace.we use an ensemble method called Random forst classifier algorithm which has atribute feature_importance_ to findout the importance of each column with target column"
   ]
  },
  {
   "cell_type": "code",
   "execution_count": 163,
   "id": "3adcb1b0-3b97-4639-bf34-ad975f281e25",
   "metadata": {},
   "outputs": [],
   "source": [
    "rfc = RandomForestClassifier()\n",
    "rfc.fit(feature_train_scaled , target_train)\n",
    "importances = rfc.feature_importances_\n",
    "features = features.columns\n",
    "im_df = pd.DataFrame({\"feature\":features,\"importance\":importances}).sort_values(by = \"importance\" , ascending = False) "
   ]
  },
  {
   "cell_type": "code",
   "execution_count": 167,
   "id": "92c00564-54b7-44f1-b322-1c1837ac513c",
   "metadata": {},
   "outputs": [
    {
     "data": {
      "text/html": [
       "<div>\n",
       "<style scoped>\n",
       "    .dataframe tbody tr th:only-of-type {\n",
       "        vertical-align: middle;\n",
       "    }\n",
       "\n",
       "    .dataframe tbody tr th {\n",
       "        vertical-align: top;\n",
       "    }\n",
       "\n",
       "    .dataframe thead th {\n",
       "        text-align: right;\n",
       "    }\n",
       "</style>\n",
       "<table border=\"1\" class=\"dataframe\">\n",
       "  <thead>\n",
       "    <tr style=\"text-align: right;\">\n",
       "      <th></th>\n",
       "      <th>feature</th>\n",
       "      <th>importance</th>\n",
       "    </tr>\n",
       "  </thead>\n",
       "  <tbody>\n",
       "    <tr>\n",
       "      <th>22</th>\n",
       "      <td>MonthsDelinquent</td>\n",
       "      <td>0.904125</td>\n",
       "    </tr>\n",
       "    <tr>\n",
       "      <th>0</th>\n",
       "      <td>CreditScore</td>\n",
       "      <td>0.031689</td>\n",
       "    </tr>\n",
       "    <tr>\n",
       "      <th>23</th>\n",
       "      <td>MonthsInRepayment</td>\n",
       "      <td>0.028013</td>\n",
       "    </tr>\n",
       "    <tr>\n",
       "      <th>10</th>\n",
       "      <td>OrigUPB</td>\n",
       "      <td>0.004555</td>\n",
       "    </tr>\n",
       "    <tr>\n",
       "      <th>18</th>\n",
       "      <td>LoanSeqNum</td>\n",
       "      <td>0.004226</td>\n",
       "    </tr>\n",
       "    <tr>\n",
       "      <th>9</th>\n",
       "      <td>DTI</td>\n",
       "      <td>0.003601</td>\n",
       "    </tr>\n",
       "    <tr>\n",
       "      <th>12</th>\n",
       "      <td>OrigInterestRate</td>\n",
       "      <td>0.003188</td>\n",
       "    </tr>\n",
       "    <tr>\n",
       "      <th>4</th>\n",
       "      <td>MSA</td>\n",
       "      <td>0.003142</td>\n",
       "    </tr>\n",
       "    <tr>\n",
       "      <th>16</th>\n",
       "      <td>PropertyState</td>\n",
       "      <td>0.002874</td>\n",
       "    </tr>\n",
       "    <tr>\n",
       "      <th>11</th>\n",
       "      <td>LTV</td>\n",
       "      <td>0.002753</td>\n",
       "    </tr>\n",
       "    <tr>\n",
       "      <th>8</th>\n",
       "      <td>OCLTV</td>\n",
       "      <td>0.002594</td>\n",
       "    </tr>\n",
       "    <tr>\n",
       "      <th>21</th>\n",
       "      <td>NumBorrowers</td>\n",
       "      <td>0.001880</td>\n",
       "    </tr>\n",
       "    <tr>\n",
       "      <th>5</th>\n",
       "      <td>MIP</td>\n",
       "      <td>0.001524</td>\n",
       "    </tr>\n",
       "    <tr>\n",
       "      <th>3</th>\n",
       "      <td>MaturityDate</td>\n",
       "      <td>0.000962</td>\n",
       "    </tr>\n",
       "    <tr>\n",
       "      <th>1</th>\n",
       "      <td>FirstPaymentDate</td>\n",
       "      <td>0.000931</td>\n",
       "    </tr>\n",
       "    <tr>\n",
       "      <th>19</th>\n",
       "      <td>LoanPurpose</td>\n",
       "      <td>0.000848</td>\n",
       "    </tr>\n",
       "    <tr>\n",
       "      <th>2</th>\n",
       "      <td>FirstTimeHomebuyer</td>\n",
       "      <td>0.000726</td>\n",
       "    </tr>\n",
       "    <tr>\n",
       "      <th>17</th>\n",
       "      <td>PropertyType</td>\n",
       "      <td>0.000685</td>\n",
       "    </tr>\n",
       "    <tr>\n",
       "      <th>13</th>\n",
       "      <td>Channel</td>\n",
       "      <td>0.000666</td>\n",
       "    </tr>\n",
       "    <tr>\n",
       "      <th>7</th>\n",
       "      <td>Occupancy</td>\n",
       "      <td>0.000434</td>\n",
       "    </tr>\n",
       "    <tr>\n",
       "      <th>6</th>\n",
       "      <td>Units</td>\n",
       "      <td>0.000250</td>\n",
       "    </tr>\n",
       "    <tr>\n",
       "      <th>14</th>\n",
       "      <td>PPM</td>\n",
       "      <td>0.000248</td>\n",
       "    </tr>\n",
       "    <tr>\n",
       "      <th>20</th>\n",
       "      <td>OrigLoanTerm</td>\n",
       "      <td>0.000086</td>\n",
       "    </tr>\n",
       "    <tr>\n",
       "      <th>15</th>\n",
       "      <td>ProductType</td>\n",
       "      <td>0.000000</td>\n",
       "    </tr>\n",
       "  </tbody>\n",
       "</table>\n",
       "</div>"
      ],
      "text/plain": [
       "               feature  importance\n",
       "22    MonthsDelinquent    0.904125\n",
       "0          CreditScore    0.031689\n",
       "23   MonthsInRepayment    0.028013\n",
       "10             OrigUPB    0.004555\n",
       "18          LoanSeqNum    0.004226\n",
       "9                  DTI    0.003601\n",
       "12    OrigInterestRate    0.003188\n",
       "4                  MSA    0.003142\n",
       "16       PropertyState    0.002874\n",
       "11                 LTV    0.002753\n",
       "8                OCLTV    0.002594\n",
       "21        NumBorrowers    0.001880\n",
       "5                  MIP    0.001524\n",
       "3         MaturityDate    0.000962\n",
       "1     FirstPaymentDate    0.000931\n",
       "19         LoanPurpose    0.000848\n",
       "2   FirstTimeHomebuyer    0.000726\n",
       "17        PropertyType    0.000685\n",
       "13             Channel    0.000666\n",
       "7            Occupancy    0.000434\n",
       "6                Units    0.000250\n",
       "14                 PPM    0.000248\n",
       "20        OrigLoanTerm    0.000086\n",
       "15         ProductType    0.000000"
      ]
     },
     "execution_count": 167,
     "metadata": {},
     "output_type": "execute_result"
    }
   ],
   "source": [
    "im_df"
   ]
  },
  {
   "cell_type": "markdown",
   "id": "ce25495c-a5b6-42c7-8f79-85b4eb0d890c",
   "metadata": {},
   "source": [
    "Here we can Observe,MonthsDelinquent,CreditScore,MonthsInRepayment,OrigUPB are important features against to EverDelinquent. Hence we conclude  This features as good predicters."
   ]
  },
  {
   "cell_type": "code",
   "execution_count": null,
   "id": "bd2e0d14-8853-4f06-8c37-668796fe8e3d",
   "metadata": {},
   "outputs": [],
   "source": []
  }
 ],
 "metadata": {
  "kernelspec": {
   "display_name": "Python 3 (ipykernel)",
   "language": "python",
   "name": "python3"
  },
  "language_info": {
   "codemirror_mode": {
    "name": "ipython",
    "version": 3
   },
   "file_extension": ".py",
   "mimetype": "text/x-python",
   "name": "python",
   "nbconvert_exporter": "python",
   "pygments_lexer": "ipython3",
   "version": "3.11.7"
  }
 },
 "nbformat": 4,
 "nbformat_minor": 5
}
